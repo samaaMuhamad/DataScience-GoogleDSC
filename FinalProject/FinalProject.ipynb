{
 "cells": [
  {
   "cell_type": "markdown",
   "metadata": {},
   "source": [
    "# Text Classification Project"
   ]
  },
  {
   "cell_type": "code",
   "execution_count": 2,
   "metadata": {},
   "outputs": [
    {
     "data": {
      "text/html": [
       "<div>\n",
       "<style scoped>\n",
       "    .dataframe tbody tr th:only-of-type {\n",
       "        vertical-align: middle;\n",
       "    }\n",
       "\n",
       "    .dataframe tbody tr th {\n",
       "        vertical-align: top;\n",
       "    }\n",
       "\n",
       "    .dataframe thead th {\n",
       "        text-align: right;\n",
       "    }\n",
       "</style>\n",
       "<table border=\"1\" class=\"dataframe\">\n",
       "  <thead>\n",
       "    <tr style=\"text-align: right;\">\n",
       "      <th></th>\n",
       "      <th>description</th>\n",
       "      <th>industry</th>\n",
       "    </tr>\n",
       "  </thead>\n",
       "  <tbody>\n",
       "    <tr>\n",
       "      <th>0</th>\n",
       "      <td>Markets where business sold raw, unprocessed m...</td>\n",
       "      <td>total</td>\n",
       "    </tr>\n",
       "    <tr>\n",
       "      <th>1</th>\n",
       "      <td>Which of the following overseas markets did th...</td>\n",
       "      <td>Education &amp; training</td>\n",
       "    </tr>\n",
       "    <tr>\n",
       "      <th>2</th>\n",
       "      <td>Which of the following overseas markets did th...</td>\n",
       "      <td>Health care &amp; social assistance</td>\n",
       "    </tr>\n",
       "    <tr>\n",
       "      <th>3</th>\n",
       "      <td>Which of the following overseas markets did th...</td>\n",
       "      <td>Arts &amp; recreation services</td>\n",
       "    </tr>\n",
       "    <tr>\n",
       "      <th>4</th>\n",
       "      <td>Which of the following overseas markets did th...</td>\n",
       "      <td>Other services</td>\n",
       "    </tr>\n",
       "  </tbody>\n",
       "</table>\n",
       "</div>"
      ],
      "text/plain": [
       "                                         description  \\\n",
       "0  Markets where business sold raw, unprocessed m...   \n",
       "1  Which of the following overseas markets did th...   \n",
       "2  Which of the following overseas markets did th...   \n",
       "3  Which of the following overseas markets did th...   \n",
       "4  Which of the following overseas markets did th...   \n",
       "\n",
       "                          industry  \n",
       "0                            total  \n",
       "1             Education & training  \n",
       "2  Health care & social assistance  \n",
       "3       Arts & recreation services  \n",
       "4                   Other services  "
      ]
     },
     "execution_count": 2,
     "metadata": {},
     "output_type": "execute_result"
    }
   ],
   "source": [
    "import pandas as pd\n",
    "df = pd.read_csv('business.csv')\n",
    "df.head()"
   ]
  },
  {
   "cell_type": "code",
   "execution_count": 3,
   "metadata": {},
   "outputs": [
    {
     "data": {
      "text/plain": [
       "<1333x103 sparse matrix of type '<class 'numpy.int64'>'\n",
       "\twith 21479 stored elements in Compressed Sparse Row format>"
      ]
     },
     "execution_count": 3,
     "metadata": {},
     "output_type": "execute_result"
    }
   ],
   "source": [
    "from sklearn.feature_extraction.text import CountVectorizer\n",
    "cv = CountVectorizer()\n",
    "x = cv.fit_transform(df.description)\n",
    "x"
   ]
  },
  {
   "cell_type": "code",
   "execution_count": 4,
   "metadata": {},
   "outputs": [
    {
     "data": {
      "text/plain": [
       "{'markets': 57,\n",
       " 'where': 100,\n",
       " 'business': 11,\n",
       " 'sold': 84,\n",
       " 'raw': 77,\n",
       " 'unprocessed': 96,\n",
       " 'materials': 58,\n",
       " 'nz': 63,\n",
       " 'only': 66,\n",
       " 'which': 101,\n",
       " 'of': 64,\n",
       " 'the': 91,\n",
       " 'following': 32,\n",
       " 'overseas': 70,\n",
       " 'did': 22,\n",
       " 'this': 92,\n",
       " 'sell': 81,\n",
       " 'goods': 34,\n",
       " 'and': 5,\n",
       " 'services': 83,\n",
       " 'australia': 9,\n",
       " 'other': 68,\n",
       " 'pacific': 72,\n",
       " 'china': 13,\n",
       " 'japan': 47,\n",
       " 'india': 43,\n",
       " 'asean': 7,\n",
       " 'member': 59,\n",
       " 'states': 87,\n",
       " 'asia': 8,\n",
       " 'usa': 97,\n",
       " 'americas': 4,\n",
       " 'united': 95,\n",
       " 'kingdom': 49,\n",
       " 'eu': 28,\n",
       " 'europe': 29,\n",
       " 'middle': 60,\n",
       " 'east': 26,\n",
       " 'africa': 2,\n",
       " 'key': 48,\n",
       " 'factors': 31,\n",
       " 'that': 90,\n",
       " 'helped': 37,\n",
       " 'compete': 14,\n",
       " 'in': 41,\n",
       " 'experienced': 30,\n",
       " 'managerial': 55,\n",
       " 'staff': 86,\n",
       " 'non': 61,\n",
       " 'valuable': 99,\n",
       " 'brand': 10,\n",
       " 'high': 38,\n",
       " 'quality': 76,\n",
       " 'or': 67,\n",
       " 'unique': 94,\n",
       " 'intellectual': 45,\n",
       " 'property': 75,\n",
       " 'ability': 0,\n",
       " 'to': 93,\n",
       " 'customise': 19,\n",
       " 'specific': 85,\n",
       " 'customer': 17,\n",
       " 'requirements': 78,\n",
       " 'lower': 53,\n",
       " 'production': 74,\n",
       " 'costs': 16,\n",
       " 'due': 24,\n",
       " 'technological': 89,\n",
       " 'know': 50,\n",
       " 'how': 39,\n",
       " 'input': 44,\n",
       " 'including': 42,\n",
       " 'cost': 15,\n",
       " 'labour': 51,\n",
       " 'made': 54,\n",
       " 'it': 46,\n",
       " 'difficult': 23,\n",
       " 'for': 33,\n",
       " 'government': 35,\n",
       " 'tariffs': 88,\n",
       " 'egg': 27,\n",
       " 'import': 40,\n",
       " 'duties': 25,\n",
       " 'have': 36,\n",
       " 'workforce': 102,\n",
       " 'offices': 65,\n",
       " 'carrying': 12,\n",
       " 'out': 69,\n",
       " 'activities': 1,\n",
       " 'marketing': 56,\n",
       " 'sales': 80,\n",
       " 'after': 3,\n",
       " 'service': 82,\n",
       " 'customers': 18,\n",
       " 'not': 62,\n",
       " 'applicable': 6,\n",
       " 'research': 79,\n",
       " 'development': 21,\n",
       " 'product': 73,\n",
       " 'design': 20,\n",
       " 'own': 71,\n",
       " 'use': 98,\n",
       " 'locations': 52}"
      ]
     },
     "execution_count": 4,
     "metadata": {},
     "output_type": "execute_result"
    }
   ],
   "source": [
    "cv.vocabulary_"
   ]
  },
  {
   "cell_type": "code",
   "execution_count": 5,
   "metadata": {},
   "outputs": [
    {
     "name": "stderr",
     "output_type": "stream",
     "text": [
      "[nltk_data] Downloading package stopwords to\n",
      "[nltk_data]     C:\\Users\\Samaa\\AppData\\Roaming\\nltk_data...\n",
      "[nltk_data]   Package stopwords is already up-to-date!\n"
     ]
    }
   ],
   "source": [
    "import nltk\n",
    "nltk.download('stopwords')\n",
    "from nltk.corpus import stopwords\n",
    "sw= list(stopwords.words('english'))"
   ]
  },
  {
   "cell_type": "code",
   "execution_count": 6,
   "metadata": {},
   "outputs": [],
   "source": [
    "from sklearn.linear_model import LogisticRegression\n",
    "from sklearn.model_selection import train_test_split\n",
    "x_train,x_test,y_train,y_test = train_test_split(x,df.description,test_size=0.2)"
   ]
  },
  {
   "cell_type": "code",
   "execution_count": 7,
   "metadata": {},
   "outputs": [],
   "source": [
    "def train(x):\n",
    "    x_train,x_test,y_train,y_test = train_test_split(x,df.description,test_size=0.2)    \n",
    "    clf = LogisticRegression(max_iter=10000)\n",
    "    clf.fit(x_train,y_train)\n",
    "    return clf.score(x_test,y_test)"
   ]
  },
  {
   "cell_type": "code",
   "execution_count": 8,
   "metadata": {},
   "outputs": [],
   "source": [
    "def remove_sw(text):\n",
    "    words = text.split()\n",
    "    filtered_words = []\n",
    "    for word in words:\n",
    "        if word not in sw:\n",
    "            filtered_words.append(word)\n",
    "    return ' '.join(filtered_words)"
   ]
  },
  {
   "cell_type": "code",
   "execution_count": 9,
   "metadata": {},
   "outputs": [
    {
     "data": {
      "text/plain": [
       "'Which following overseas markets business sell goods services? - Australia'"
      ]
     },
     "execution_count": 9,
     "metadata": {},
     "output_type": "execute_result"
    }
   ],
   "source": [
    "remove_sw(\"Which of the following overseas markets did this business sell goods and services? - Australia\")"
   ]
  },
  {
   "cell_type": "code",
   "execution_count": 10,
   "metadata": {},
   "outputs": [
    {
     "data": {
      "text/html": [
       "<div>\n",
       "<style scoped>\n",
       "    .dataframe tbody tr th:only-of-type {\n",
       "        vertical-align: middle;\n",
       "    }\n",
       "\n",
       "    .dataframe tbody tr th {\n",
       "        vertical-align: top;\n",
       "    }\n",
       "\n",
       "    .dataframe thead th {\n",
       "        text-align: right;\n",
       "    }\n",
       "</style>\n",
       "<table border=\"1\" class=\"dataframe\">\n",
       "  <thead>\n",
       "    <tr style=\"text-align: right;\">\n",
       "      <th></th>\n",
       "      <th>description</th>\n",
       "      <th>industry</th>\n",
       "      <th>clean_text</th>\n",
       "      <th>clean_text2</th>\n",
       "    </tr>\n",
       "  </thead>\n",
       "  <tbody>\n",
       "    <tr>\n",
       "      <th>0</th>\n",
       "      <td>Markets where business sold raw, unprocessed m...</td>\n",
       "      <td>total</td>\n",
       "      <td>Markets business sold raw, unprocessed materia...</td>\n",
       "      <td>total</td>\n",
       "    </tr>\n",
       "    <tr>\n",
       "      <th>1</th>\n",
       "      <td>Which of the following overseas markets did th...</td>\n",
       "      <td>Education &amp; training</td>\n",
       "      <td>Which following overseas markets business sell...</td>\n",
       "      <td>Education &amp; training</td>\n",
       "    </tr>\n",
       "    <tr>\n",
       "      <th>2</th>\n",
       "      <td>Which of the following overseas markets did th...</td>\n",
       "      <td>Health care &amp; social assistance</td>\n",
       "      <td>Which following overseas markets business sell...</td>\n",
       "      <td>Health care &amp; social assistance</td>\n",
       "    </tr>\n",
       "    <tr>\n",
       "      <th>3</th>\n",
       "      <td>Which of the following overseas markets did th...</td>\n",
       "      <td>Arts &amp; recreation services</td>\n",
       "      <td>Which following overseas markets business sell...</td>\n",
       "      <td>Arts &amp; recreation services</td>\n",
       "    </tr>\n",
       "    <tr>\n",
       "      <th>4</th>\n",
       "      <td>Which of the following overseas markets did th...</td>\n",
       "      <td>Other services</td>\n",
       "      <td>Which following overseas markets business sell...</td>\n",
       "      <td>Other services</td>\n",
       "    </tr>\n",
       "  </tbody>\n",
       "</table>\n",
       "</div>"
      ],
      "text/plain": [
       "                                         description  \\\n",
       "0  Markets where business sold raw, unprocessed m...   \n",
       "1  Which of the following overseas markets did th...   \n",
       "2  Which of the following overseas markets did th...   \n",
       "3  Which of the following overseas markets did th...   \n",
       "4  Which of the following overseas markets did th...   \n",
       "\n",
       "                          industry  \\\n",
       "0                            total   \n",
       "1             Education & training   \n",
       "2  Health care & social assistance   \n",
       "3       Arts & recreation services   \n",
       "4                   Other services   \n",
       "\n",
       "                                          clean_text  \\\n",
       "0  Markets business sold raw, unprocessed materia...   \n",
       "1  Which following overseas markets business sell...   \n",
       "2  Which following overseas markets business sell...   \n",
       "3  Which following overseas markets business sell...   \n",
       "4  Which following overseas markets business sell...   \n",
       "\n",
       "                       clean_text2  \n",
       "0                            total  \n",
       "1             Education & training  \n",
       "2  Health care & social assistance  \n",
       "3       Arts & recreation services  \n",
       "4                   Other services  "
      ]
     },
     "execution_count": 10,
     "metadata": {},
     "output_type": "execute_result"
    }
   ],
   "source": [
    "df['clean_text'] = df.description.apply(remove_sw)\n",
    "df['clean_text2'] = df.industry.apply(remove_sw)\n",
    "df.head()"
   ]
  },
  {
   "cell_type": "code",
   "execution_count": 11,
   "metadata": {},
   "outputs": [
    {
     "data": {
      "text/plain": [
       "1.0"
      ]
     },
     "execution_count": 11,
     "metadata": {},
     "output_type": "execute_result"
    }
   ],
   "source": [
    "x = cv.fit_transform(df.clean_text).toarray()\n",
    "train(x)"
   ]
  },
  {
   "cell_type": "code",
   "execution_count": 12,
   "metadata": {},
   "outputs": [],
   "source": [
    "import re"
   ]
  },
  {
   "cell_type": "code",
   "execution_count": 13,
   "metadata": {},
   "outputs": [],
   "source": [
    "def onlyLetters(text):\n",
    "    return re.sub('[^a-zA-Z ]*','',text) "
   ]
  },
  {
   "cell_type": "code",
   "execution_count": 14,
   "metadata": {},
   "outputs": [
    {
     "data": {
      "text/html": [
       "<div>\n",
       "<style scoped>\n",
       "    .dataframe tbody tr th:only-of-type {\n",
       "        vertical-align: middle;\n",
       "    }\n",
       "\n",
       "    .dataframe tbody tr th {\n",
       "        vertical-align: top;\n",
       "    }\n",
       "\n",
       "    .dataframe thead th {\n",
       "        text-align: right;\n",
       "    }\n",
       "</style>\n",
       "<table border=\"1\" class=\"dataframe\">\n",
       "  <thead>\n",
       "    <tr style=\"text-align: right;\">\n",
       "      <th></th>\n",
       "      <th>description</th>\n",
       "      <th>industry</th>\n",
       "      <th>clean_text</th>\n",
       "      <th>clean_text2</th>\n",
       "    </tr>\n",
       "  </thead>\n",
       "  <tbody>\n",
       "    <tr>\n",
       "      <th>0</th>\n",
       "      <td>Markets where business sold raw, unprocessed m...</td>\n",
       "      <td>total</td>\n",
       "      <td>Markets business sold raw unprocessed material...</td>\n",
       "      <td>total</td>\n",
       "    </tr>\n",
       "    <tr>\n",
       "      <th>1</th>\n",
       "      <td>Which of the following overseas markets did th...</td>\n",
       "      <td>Education &amp; training</td>\n",
       "      <td>Which following overseas markets business sell...</td>\n",
       "      <td>Education  training</td>\n",
       "    </tr>\n",
       "    <tr>\n",
       "      <th>2</th>\n",
       "      <td>Which of the following overseas markets did th...</td>\n",
       "      <td>Health care &amp; social assistance</td>\n",
       "      <td>Which following overseas markets business sell...</td>\n",
       "      <td>Health care  social assistance</td>\n",
       "    </tr>\n",
       "    <tr>\n",
       "      <th>3</th>\n",
       "      <td>Which of the following overseas markets did th...</td>\n",
       "      <td>Arts &amp; recreation services</td>\n",
       "      <td>Which following overseas markets business sell...</td>\n",
       "      <td>Arts  recreation services</td>\n",
       "    </tr>\n",
       "    <tr>\n",
       "      <th>4</th>\n",
       "      <td>Which of the following overseas markets did th...</td>\n",
       "      <td>Other services</td>\n",
       "      <td>Which following overseas markets business sell...</td>\n",
       "      <td>Other services</td>\n",
       "    </tr>\n",
       "  </tbody>\n",
       "</table>\n",
       "</div>"
      ],
      "text/plain": [
       "                                         description  \\\n",
       "0  Markets where business sold raw, unprocessed m...   \n",
       "1  Which of the following overseas markets did th...   \n",
       "2  Which of the following overseas markets did th...   \n",
       "3  Which of the following overseas markets did th...   \n",
       "4  Which of the following overseas markets did th...   \n",
       "\n",
       "                          industry  \\\n",
       "0                            total   \n",
       "1             Education & training   \n",
       "2  Health care & social assistance   \n",
       "3       Arts & recreation services   \n",
       "4                   Other services   \n",
       "\n",
       "                                          clean_text  \\\n",
       "0  Markets business sold raw unprocessed material...   \n",
       "1  Which following overseas markets business sell...   \n",
       "2  Which following overseas markets business sell...   \n",
       "3  Which following overseas markets business sell...   \n",
       "4  Which following overseas markets business sell...   \n",
       "\n",
       "                      clean_text2  \n",
       "0                           total  \n",
       "1             Education  training  \n",
       "2  Health care  social assistance  \n",
       "3       Arts  recreation services  \n",
       "4                  Other services  "
      ]
     },
     "execution_count": 14,
     "metadata": {},
     "output_type": "execute_result"
    }
   ],
   "source": [
    "df['clean_text'] = df.clean_text.apply(onlyLetters)\n",
    "df['clean_text2'] = df.clean_text2.apply(onlyLetters)\n",
    "df.head()"
   ]
  },
  {
   "cell_type": "code",
   "execution_count": 15,
   "metadata": {},
   "outputs": [
    {
     "data": {
      "text/plain": [
       "1.0"
      ]
     },
     "execution_count": 15,
     "metadata": {},
     "output_type": "execute_result"
    }
   ],
   "source": [
    "x = cv.fit_transform(df.clean_text).toarray()\n",
    "train(x)"
   ]
  },
  {
   "cell_type": "code",
   "execution_count": 16,
   "metadata": {},
   "outputs": [
    {
     "data": {
      "text/plain": [
       "(1333, 87)"
      ]
     },
     "execution_count": 16,
     "metadata": {},
     "output_type": "execute_result"
    }
   ],
   "source": [
    "x.shape"
   ]
  },
  {
   "cell_type": "markdown",
   "metadata": {},
   "source": [
    "# Stemming"
   ]
  },
  {
   "cell_type": "code",
   "execution_count": 25,
   "metadata": {},
   "outputs": [],
   "source": [
    "from nltk.stem.snowball import SnowballStemmer"
   ]
  },
  {
   "cell_type": "code",
   "execution_count": 26,
   "metadata": {},
   "outputs": [],
   "source": [
    "steming = SnowballStemmer(\"english\")"
   ]
  },
  {
   "cell_type": "code",
   "execution_count": 27,
   "metadata": {},
   "outputs": [],
   "source": [
    "def stem(message):\n",
    "    tokens = message.split()\n",
    "    filtered_words = []\n",
    "    for token in tokens:\n",
    "        filtered_words.append(steming.stem(token))\n",
    "        \n",
    "    return ' '.join(filtered_words)"
   ]
  },
  {
   "cell_type": "code",
   "execution_count": 28,
   "metadata": {},
   "outputs": [
    {
     "data": {
      "text/plain": [
       "'detect'"
      ]
     },
     "execution_count": 28,
     "metadata": {},
     "output_type": "execute_result"
    }
   ],
   "source": [
    "steming.stem(\"detection\")"
   ]
  },
  {
   "cell_type": "code",
   "execution_count": 29,
   "metadata": {},
   "outputs": [
    {
     "data": {
      "text/html": [
       "<div>\n",
       "<style scoped>\n",
       "    .dataframe tbody tr th:only-of-type {\n",
       "        vertical-align: middle;\n",
       "    }\n",
       "\n",
       "    .dataframe tbody tr th {\n",
       "        vertical-align: top;\n",
       "    }\n",
       "\n",
       "    .dataframe thead th {\n",
       "        text-align: right;\n",
       "    }\n",
       "</style>\n",
       "<table border=\"1\" class=\"dataframe\">\n",
       "  <thead>\n",
       "    <tr style=\"text-align: right;\">\n",
       "      <th></th>\n",
       "      <th>description</th>\n",
       "      <th>industry</th>\n",
       "      <th>clean_text</th>\n",
       "      <th>clean_text2</th>\n",
       "    </tr>\n",
       "  </thead>\n",
       "  <tbody>\n",
       "    <tr>\n",
       "      <th>0</th>\n",
       "      <td>Markets where business sold raw, unprocessed m...</td>\n",
       "      <td>total</td>\n",
       "      <td>market busi sold raw unprocess materi nz</td>\n",
       "      <td>total</td>\n",
       "    </tr>\n",
       "    <tr>\n",
       "      <th>1</th>\n",
       "      <td>Which of the following overseas markets did th...</td>\n",
       "      <td>Education &amp; training</td>\n",
       "      <td>which follow oversea market busi sell good ser...</td>\n",
       "      <td>educ train</td>\n",
       "    </tr>\n",
       "    <tr>\n",
       "      <th>2</th>\n",
       "      <td>Which of the following overseas markets did th...</td>\n",
       "      <td>Health care &amp; social assistance</td>\n",
       "      <td>which follow oversea market busi sell good ser...</td>\n",
       "      <td>health care social assist</td>\n",
       "    </tr>\n",
       "    <tr>\n",
       "      <th>3</th>\n",
       "      <td>Which of the following overseas markets did th...</td>\n",
       "      <td>Arts &amp; recreation services</td>\n",
       "      <td>which follow oversea market busi sell good ser...</td>\n",
       "      <td>art recreat servic</td>\n",
       "    </tr>\n",
       "    <tr>\n",
       "      <th>4</th>\n",
       "      <td>Which of the following overseas markets did th...</td>\n",
       "      <td>Other services</td>\n",
       "      <td>which follow oversea market busi sell good ser...</td>\n",
       "      <td>other servic</td>\n",
       "    </tr>\n",
       "  </tbody>\n",
       "</table>\n",
       "</div>"
      ],
      "text/plain": [
       "                                         description  \\\n",
       "0  Markets where business sold raw, unprocessed m...   \n",
       "1  Which of the following overseas markets did th...   \n",
       "2  Which of the following overseas markets did th...   \n",
       "3  Which of the following overseas markets did th...   \n",
       "4  Which of the following overseas markets did th...   \n",
       "\n",
       "                          industry  \\\n",
       "0                            total   \n",
       "1             Education & training   \n",
       "2  Health care & social assistance   \n",
       "3       Arts & recreation services   \n",
       "4                   Other services   \n",
       "\n",
       "                                          clean_text  \\\n",
       "0           market busi sold raw unprocess materi nz   \n",
       "1  which follow oversea market busi sell good ser...   \n",
       "2  which follow oversea market busi sell good ser...   \n",
       "3  which follow oversea market busi sell good ser...   \n",
       "4  which follow oversea market busi sell good ser...   \n",
       "\n",
       "                 clean_text2  \n",
       "0                      total  \n",
       "1                 educ train  \n",
       "2  health care social assist  \n",
       "3         art recreat servic  \n",
       "4               other servic  "
      ]
     },
     "execution_count": 29,
     "metadata": {},
     "output_type": "execute_result"
    }
   ],
   "source": [
    "df['clean_text'] = df.clean_text.apply(stem)\n",
    "df['clean_text2'] = df.clean_text2.apply(stem)\n",
    "df.head()"
   ]
  },
  {
   "cell_type": "code",
   "execution_count": 30,
   "metadata": {},
   "outputs": [
    {
     "data": {
      "text/plain": [
       "1.0"
      ]
     },
     "execution_count": 30,
     "metadata": {},
     "output_type": "execute_result"
    }
   ],
   "source": [
    "x = cv.fit_transform(df.clean_text)\n",
    "train(x)"
   ]
  },
  {
   "cell_type": "code",
   "execution_count": 34,
   "metadata": {},
   "outputs": [
    {
     "data": {
      "text/plain": [
       "(1333, 82)"
      ]
     },
     "execution_count": 34,
     "metadata": {},
     "output_type": "execute_result"
    }
   ],
   "source": [
    "x.shape"
   ]
  }
 ],
 "metadata": {
  "kernelspec": {
   "display_name": "Python 3",
   "language": "python",
   "name": "python3"
  },
  "language_info": {
   "codemirror_mode": {
    "name": "ipython",
    "version": 3
   },
   "file_extension": ".py",
   "mimetype": "text/x-python",
   "name": "python",
   "nbconvert_exporter": "python",
   "pygments_lexer": "ipython3",
   "version": "3.8.3"
  }
 },
 "nbformat": 4,
 "nbformat_minor": 4
}
